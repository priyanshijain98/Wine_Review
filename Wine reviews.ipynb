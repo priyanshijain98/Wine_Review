{
 "cells": [
  {
   "cell_type": "markdown",
   "metadata": {},
   "source": [
    "# PREDICTING WINE TYPE"
   ]
  },
  {
   "cell_type": "markdown",
   "metadata": {},
   "source": [
    "## OBJECTIVE\n",
    "\n",
    "        1. Build a predictive model for predicting the wine “variety”. \n",
    "        \n",
    "        2. DATA DESCRIPTION:\n",
    "                •\tuser_name - user_name of the reviewer\n",
    "                •\tcountry -The country that the wine is from.\n",
    "                •\treview_title - The title of the wine review, which often contains the vintage.\n",
    "                •\treview_description - A verbose review of the wine.\n",
    "                •\tdesignation - The vineyard within the winery where the grapes that made the wine are from.\n",
    "                •\tpoints - ratings given by the user. The ratings are between 0 -100.\n",
    "                •\tprice - The cost for a bottle of the wine\n",
    "                •\tprovince - The province or state that the wine is from.\n",
    "                •\tregion_1 - The wine-growing area in a province or state (ie Napa).\n",
    "                •\tregion_2 - Sometimes there are more specific regions specified within a wine-growing area (ie Rutherford inside the Napa Valley), but this value can sometimes be blank.\n",
    "                •\twinery - The winery that made the wine\n",
    "                •\tvariety - The type of grapes used to make the wine. Dependent variable for task 2 of the assignment\n"
   ]
  },
  {
   "cell_type": "markdown",
   "metadata": {},
   "source": [
    "##### NOTE: Because of my system constraints, I could not process thw whole dataset with more than 70000 rows which is why I have taken a random sample for further text processing and predictions."
   ]
  },
  {
   "cell_type": "markdown",
   "metadata": {},
   "source": [
    "#### IMPORTING NECESSARY LIBRARIES"
   ]
  },
  {
   "cell_type": "code",
   "execution_count": 1,
   "metadata": {},
   "outputs": [
    {
     "name": "stderr",
     "output_type": "stream",
     "text": [
      "C:\\Users\\Dell Insp\\Anaconda3\\lib\\site-packages\\sklearn\\feature_extraction\\text.py:17: DeprecationWarning: Using or importing the ABCs from 'collections' instead of from 'collections.abc' is deprecated, and in 3.8 it will stop working\n",
      "  from collections import Mapping, defaultdict\n"
     ]
    }
   ],
   "source": [
    "import numpy as np\n",
    "import pandas as pd\n",
    "import matplotlib.pyplot as plt\n",
    "import seaborn as sns\n",
    "import warnings\n",
    "warnings.filterwarnings(\"ignore\")\n",
    "import string\n",
    "from nltk.corpus import stopwords\n",
    "from sklearn.feature_extraction.text import CountVectorizer\n",
    "from sklearn.feature_extraction.text import TfidfTransformer\n",
    "from sklearn.naive_bayes import MultinomialNB\n",
    "from nltk.stem.wordnet import WordNetLemmatizer\n",
    "from sklearn.metrics import classification_report"
   ]
  },
  {
   "cell_type": "code",
   "execution_count": 2,
   "metadata": {},
   "outputs": [],
   "source": [
    "train = pd.read_csv('train.csv')\n",
    "df = train.copy()"
   ]
  },
  {
   "cell_type": "code",
   "execution_count": 3,
   "metadata": {},
   "outputs": [
    {
     "data": {
      "text/html": [
       "<div>\n",
       "<style scoped>\n",
       "    .dataframe tbody tr th:only-of-type {\n",
       "        vertical-align: middle;\n",
       "    }\n",
       "\n",
       "    .dataframe tbody tr th {\n",
       "        vertical-align: top;\n",
       "    }\n",
       "\n",
       "    .dataframe thead th {\n",
       "        text-align: right;\n",
       "    }\n",
       "</style>\n",
       "<table border=\"1\" class=\"dataframe\">\n",
       "  <thead>\n",
       "    <tr style=\"text-align: right;\">\n",
       "      <th></th>\n",
       "      <th>user_name</th>\n",
       "      <th>country</th>\n",
       "      <th>review_title</th>\n",
       "      <th>review_description</th>\n",
       "      <th>designation</th>\n",
       "      <th>points</th>\n",
       "      <th>price</th>\n",
       "      <th>province</th>\n",
       "      <th>region_1</th>\n",
       "      <th>region_2</th>\n",
       "      <th>winery</th>\n",
       "      <th>variety</th>\n",
       "    </tr>\n",
       "  </thead>\n",
       "  <tbody>\n",
       "    <tr>\n",
       "      <td>0</td>\n",
       "      <td>NaN</td>\n",
       "      <td>Australia</td>\n",
       "      <td>Andrew Peace 2007 Peace Family Vineyard Chardo...</td>\n",
       "      <td>Classic Chardonnay aromas of apple, pear and h...</td>\n",
       "      <td>Peace Family Vineyard</td>\n",
       "      <td>83</td>\n",
       "      <td>10.0</td>\n",
       "      <td>Australia Other</td>\n",
       "      <td>South Eastern Australia</td>\n",
       "      <td>NaN</td>\n",
       "      <td>Andrew Peace</td>\n",
       "      <td>Chardonnay</td>\n",
       "    </tr>\n",
       "    <tr>\n",
       "      <td>1</td>\n",
       "      <td>@wawinereport</td>\n",
       "      <td>US</td>\n",
       "      <td>North by Northwest 2014 Red (Columbia Valley (...</td>\n",
       "      <td>This wine is near equal parts Syrah and Merlot...</td>\n",
       "      <td>NaN</td>\n",
       "      <td>89</td>\n",
       "      <td>15.0</td>\n",
       "      <td>Washington</td>\n",
       "      <td>Columbia Valley (WA)</td>\n",
       "      <td>Columbia Valley</td>\n",
       "      <td>North by Northwest</td>\n",
       "      <td>Red Blend</td>\n",
       "    </tr>\n",
       "    <tr>\n",
       "      <td>2</td>\n",
       "      <td>NaN</td>\n",
       "      <td>Italy</td>\n",
       "      <td>Renato Ratti 2007 Conca  (Barolo)</td>\n",
       "      <td>Barolo Conca opens with inky dark concentratio...</td>\n",
       "      <td>Conca</td>\n",
       "      <td>94</td>\n",
       "      <td>80.0</td>\n",
       "      <td>Piedmont</td>\n",
       "      <td>Barolo</td>\n",
       "      <td>NaN</td>\n",
       "      <td>Renato Ratti</td>\n",
       "      <td>Nebbiolo</td>\n",
       "    </tr>\n",
       "    <tr>\n",
       "      <td>3</td>\n",
       "      <td>@vossroger</td>\n",
       "      <td>France</td>\n",
       "      <td>Domaine l'Ancienne Cure 2010 L'Abbaye White (B...</td>\n",
       "      <td>It's impressive what a small addition of Sauvi...</td>\n",
       "      <td>L'Abbaye</td>\n",
       "      <td>87</td>\n",
       "      <td>22.0</td>\n",
       "      <td>Southwest France</td>\n",
       "      <td>Bergerac Sec</td>\n",
       "      <td>NaN</td>\n",
       "      <td>Domaine l'Ancienne Cure</td>\n",
       "      <td>Bordeaux-style White Blend</td>\n",
       "    </tr>\n",
       "    <tr>\n",
       "      <td>4</td>\n",
       "      <td>@vossroger</td>\n",
       "      <td>France</td>\n",
       "      <td>Château du Cèdre 2012 Le Cèdre Vintage Malbec ...</td>\n",
       "      <td>This ripe, sweet wine is rich and full of drie...</td>\n",
       "      <td>Le Cèdre Vintage</td>\n",
       "      <td>88</td>\n",
       "      <td>33.0</td>\n",
       "      <td>France Other</td>\n",
       "      <td>Vin de Liqueur</td>\n",
       "      <td>NaN</td>\n",
       "      <td>Château du Cèdre</td>\n",
       "      <td>Malbec</td>\n",
       "    </tr>\n",
       "  </tbody>\n",
       "</table>\n",
       "</div>"
      ],
      "text/plain": [
       "       user_name    country  \\\n",
       "0            NaN  Australia   \n",
       "1  @wawinereport         US   \n",
       "2            NaN      Italy   \n",
       "3     @vossroger     France   \n",
       "4     @vossroger     France   \n",
       "\n",
       "                                        review_title  \\\n",
       "0  Andrew Peace 2007 Peace Family Vineyard Chardo...   \n",
       "1  North by Northwest 2014 Red (Columbia Valley (...   \n",
       "2                  Renato Ratti 2007 Conca  (Barolo)   \n",
       "3  Domaine l'Ancienne Cure 2010 L'Abbaye White (B...   \n",
       "4  Château du Cèdre 2012 Le Cèdre Vintage Malbec ...   \n",
       "\n",
       "                                  review_description            designation  \\\n",
       "0  Classic Chardonnay aromas of apple, pear and h...  Peace Family Vineyard   \n",
       "1  This wine is near equal parts Syrah and Merlot...                    NaN   \n",
       "2  Barolo Conca opens with inky dark concentratio...                  Conca   \n",
       "3  It's impressive what a small addition of Sauvi...               L'Abbaye   \n",
       "4  This ripe, sweet wine is rich and full of drie...       Le Cèdre Vintage   \n",
       "\n",
       "   points  price          province                 region_1         region_2  \\\n",
       "0      83   10.0   Australia Other  South Eastern Australia              NaN   \n",
       "1      89   15.0        Washington     Columbia Valley (WA)  Columbia Valley   \n",
       "2      94   80.0          Piedmont                   Barolo              NaN   \n",
       "3      87   22.0  Southwest France             Bergerac Sec              NaN   \n",
       "4      88   33.0      France Other           Vin de Liqueur              NaN   \n",
       "\n",
       "                    winery                     variety  \n",
       "0             Andrew Peace                  Chardonnay  \n",
       "1       North by Northwest                   Red Blend  \n",
       "2             Renato Ratti                    Nebbiolo  \n",
       "3  Domaine l'Ancienne Cure  Bordeaux-style White Blend  \n",
       "4         Château du Cèdre                      Malbec  "
      ]
     },
     "execution_count": 3,
     "metadata": {},
     "output_type": "execute_result"
    }
   ],
   "source": [
    "df.head()"
   ]
  },
  {
   "cell_type": "code",
   "execution_count": 4,
   "metadata": {},
   "outputs": [
    {
     "name": "stdout",
     "output_type": "stream",
     "text": [
      "<class 'pandas.core.frame.DataFrame'>\n",
      "RangeIndex: 82657 entries, 0 to 82656\n",
      "Data columns (total 12 columns):\n",
      "user_name             63264 non-null object\n",
      "country               82622 non-null object\n",
      "review_title          82657 non-null object\n",
      "review_description    82657 non-null object\n",
      "designation           59010 non-null object\n",
      "points                82657 non-null int64\n",
      "price                 77088 non-null float64\n",
      "province              82622 non-null object\n",
      "region_1              69903 non-null object\n",
      "region_2              35949 non-null object\n",
      "winery                82657 non-null object\n",
      "variety               82657 non-null object\n",
      "dtypes: float64(1), int64(1), object(10)\n",
      "memory usage: 4.4+ MB\n"
     ]
    }
   ],
   "source": [
    "df.info()"
   ]
  },
  {
   "cell_type": "code",
   "execution_count": 5,
   "metadata": {},
   "outputs": [
    {
     "data": {
      "text/plain": [
       "(82657, 12)"
      ]
     },
     "execution_count": 5,
     "metadata": {},
     "output_type": "execute_result"
    }
   ],
   "source": [
    "df.shape"
   ]
  },
  {
   "cell_type": "code",
   "execution_count": 6,
   "metadata": {},
   "outputs": [],
   "source": [
    "col = ['country','province', 'region_1', 'region_2','winery','variety','designation']"
   ]
  },
  {
   "cell_type": "markdown",
   "metadata": {},
   "source": [
    "EXTRACTING THE NUMBER OF UNIQUE VALUES AND THEIR FREQUENCIES IN EACH COLUMN OF THE DATAFRAME"
   ]
  },
  {
   "cell_type": "code",
   "execution_count": 7,
   "metadata": {},
   "outputs": [
    {
     "name": "stdout",
     "output_type": "stream",
     "text": [
      "country\n",
      "US                38573\n",
      "France            15948\n",
      "Italy              9112\n",
      "Portugal           3197\n",
      "Chile              2891\n",
      "Spain              2755\n",
      "Argentina          2570\n",
      "Austria            1892\n",
      "Germany            1573\n",
      "New Zealand        1121\n",
      "Australia          1028\n",
      "South Africa        727\n",
      "Israel              320\n",
      "Canada              176\n",
      "Greece              139\n",
      "Bulgaria             93\n",
      "Romania              80\n",
      "England              62\n",
      "Slovenia             42\n",
      "Mexico               38\n",
      "Moldova              35\n",
      "Hungary              35\n",
      "Turkey               33\n",
      "Uruguay              33\n",
      "Brazil               28\n",
      "Lebanon              28\n",
      "Morocco              21\n",
      "Croatia              12\n",
      "Georgia              12\n",
      "Ukraine              11\n",
      "Peru                  8\n",
      "Cyprus                6\n",
      "Luxembourg            5\n",
      "Macedonia             5\n",
      "Switzerland           5\n",
      "Serbia                4\n",
      "Czech Republic        3\n",
      "India                 1\n",
      "Name: country, dtype: int64\n",
      "38\n",
      "\n",
      "\n",
      "province\n",
      "California                   25736\n",
      "Washington                    6060\n",
      "Bordeaux                      4690\n",
      "Oregon                        3900\n",
      "Tuscany                       3780\n",
      "                             ...  \n",
      "Lesbos                           1\n",
      "Sagrada Familia                  1\n",
      "Ceres Plateau                    1\n",
      "Leyda Valley-Maipo Valley        1\n",
      "Vlootenburg                      1\n",
      "Name: province, Length: 358, dtype: int64\n",
      "358\n",
      "\n",
      "\n",
      "region_1\n",
      "Napa Valley                                 3334\n",
      "Columbia Valley (WA)                        2951\n",
      "Russian River Valley                        2362\n",
      "California                                  1902\n",
      "Willamette Valley                           1739\n",
      "                                            ... \n",
      "Epomeo                                         1\n",
      "Gutturnio Classico Superiore                   1\n",
      "Prosecco di Conegliano                         1\n",
      "Rosso di Cerignola                             1\n",
      "Verdicchio dei Castelli di Jesi Classico       1\n",
      "Name: region_1, Length: 1019, dtype: int64\n",
      "1019\n",
      "\n",
      "\n",
      "region_2\n",
      "Central Coast        7503\n",
      "Sonoma               6776\n",
      "Columbia Valley      5679\n",
      "Napa                 5119\n",
      "Willamette Valley    2605\n",
      "California Other     1926\n",
      "Finger Lakes         1314\n",
      "Napa-Sonoma           919\n",
      "Sierra Foothills      772\n",
      "Central Valley        641\n",
      "Southern Oregon       548\n",
      "Oregon Other          519\n",
      "Long Island           503\n",
      "North Coast           411\n",
      "Washington Other      380\n",
      "South Coast           173\n",
      "New York Other        161\n",
      "Name: region_2, dtype: int64\n",
      "17\n",
      "\n",
      "\n",
      "winery\n",
      "Testarossa                   175\n",
      "Louis Latour                 168\n",
      "Williams Selyem              165\n",
      "Chateau Ste. Michelle        163\n",
      "Georges Duboeuf              163\n",
      "                            ... \n",
      "Bosque De Matasnos             1\n",
      "Château Bastor Lamontagne      1\n",
      "Chateau de Sadran              1\n",
      "La Filice                      1\n",
      "Volvoreta                      1\n",
      "Name: winery, Length: 13786, dtype: int64\n",
      "13786\n",
      "\n",
      "\n",
      "variety\n",
      "Pinot Noir                    10587\n",
      "Chardonnay                     9403\n",
      "Cabernet Sauvignon             7552\n",
      "Red Blend                      7166\n",
      "Bordeaux-style Red Blend       5497\n",
      "Riesling                       4148\n",
      "Sauvignon Blanc                4011\n",
      "Syrah                          3316\n",
      "Rosé                           2831\n",
      "Merlot                         2471\n",
      "Nebbiolo                       2242\n",
      "Zinfandel                      2209\n",
      "Sangiovese                     2165\n",
      "Malbec                         2119\n",
      "Portuguese Red                 1969\n",
      "White Blend                    1896\n",
      "Sparkling Blend                1739\n",
      "Tempranillo                    1448\n",
      "Rhône-style Red Blend          1182\n",
      "Pinot Gris                     1148\n",
      "Champagne Blend                1133\n",
      "Cabernet Franc                 1095\n",
      "Grüner Veltliner               1055\n",
      "Portuguese White                896\n",
      "Pinot Grigio                    873\n",
      "Bordeaux-style White Blend      850\n",
      "Gewürztraminer                  840\n",
      "Gamay                           816\n",
      "Name: variety, dtype: int64\n",
      "28\n",
      "\n",
      "\n",
      "designation\n",
      "Reserve                 1382\n",
      "Estate                   898\n",
      "Reserva                  743\n",
      "Estate Grown             425\n",
      "Riserva                  415\n",
      "                        ... \n",
      "Bacigalupi                 1\n",
      "Scharzhofberger Brut       1\n",
      "Premium Rosé of            1\n",
      "Réserve Mouton Cadet       1\n",
      "Ereditá                    1\n",
      "Name: designation, Length: 26424, dtype: int64\n",
      "26424\n",
      "\n",
      "\n"
     ]
    }
   ],
   "source": [
    "for c in col:\n",
    "    print(c)\n",
    "    print(df[c].value_counts())\n",
    "    print(df[c].nunique())\n",
    "    print('\\n')"
   ]
  },
  {
   "cell_type": "code",
   "execution_count": 7,
   "metadata": {},
   "outputs": [
    {
     "data": {
      "text/plain": [
       "user_name             19393\n",
       "country                  35\n",
       "review_title              0\n",
       "review_description        0\n",
       "designation           23647\n",
       "points                    0\n",
       "price                  5569\n",
       "province                 35\n",
       "region_1              12754\n",
       "region_2              46708\n",
       "winery                    0\n",
       "variety                   0\n",
       "dtype: int64"
      ]
     },
     "execution_count": 7,
     "metadata": {},
     "output_type": "execute_result"
    }
   ],
   "source": [
    "df.isnull().sum()"
   ]
  },
  {
   "cell_type": "markdown",
   "metadata": {},
   "source": [
    "DROPPING ALL THOSE COLUMNS THAT HAS DUPLICATE ROWS"
   ]
  },
  {
   "cell_type": "code",
   "execution_count": 8,
   "metadata": {},
   "outputs": [
    {
     "data": {
      "text/plain": [
       "(10058, 12)"
      ]
     },
     "execution_count": 8,
     "metadata": {},
     "output_type": "execute_result"
    }
   ],
   "source": [
    "df[df.duplicated('review_description',keep=False)].sort_values('review_description').shape"
   ]
  },
  {
   "cell_type": "code",
   "execution_count": 9,
   "metadata": {},
   "outputs": [],
   "source": [
    "df.drop_duplicates(inplace = True)"
   ]
  },
  {
   "cell_type": "code",
   "execution_count": 11,
   "metadata": {},
   "outputs": [
    {
     "data": {
      "text/plain": [
       "Index(['user_name', 'country', 'review_title', 'review_description',\n",
       "       'designation', 'points', 'price', 'province', 'region_1', 'region_2',\n",
       "       'winery', 'variety'],\n",
       "      dtype='object')"
      ]
     },
     "execution_count": 11,
     "metadata": {},
     "output_type": "execute_result"
    }
   ],
   "source": [
    "df.columns"
   ]
  },
  {
   "cell_type": "markdown",
   "metadata": {},
   "source": [
    "DROPPING ALL THE COLUMNS THAT ARE NOT VERY USEFUL IN OUR ANALYSIS. WE ARE ONLY CONSIDERING PRICE, POINTS AND REVIEW DESCRIPTION COLUMNS FOR OUR ANALYSIS."
   ]
  },
  {
   "cell_type": "code",
   "execution_count": 10,
   "metadata": {},
   "outputs": [],
   "source": [
    "df.drop(['user_name','review_title','designation','province','region_1','region_2','winery'],axis=1,inplace=True)"
   ]
  },
  {
   "cell_type": "markdown",
   "metadata": {},
   "source": [
    "DROPPING ALL THE NULL VALUES"
   ]
  },
  {
   "cell_type": "code",
   "execution_count": 11,
   "metadata": {},
   "outputs": [
    {
     "data": {
      "text/plain": [
       "country                 33\n",
       "review_description       0\n",
       "points                   0\n",
       "price                 5285\n",
       "variety                  0\n",
       "dtype: int64"
      ]
     },
     "execution_count": 11,
     "metadata": {},
     "output_type": "execute_result"
    }
   ],
   "source": [
    "df.isnull().sum()"
   ]
  },
  {
   "cell_type": "code",
   "execution_count": 12,
   "metadata": {},
   "outputs": [
    {
     "data": {
      "text/plain": [
       "(77641, 5)"
      ]
     },
     "execution_count": 12,
     "metadata": {},
     "output_type": "execute_result"
    }
   ],
   "source": [
    "df.shape"
   ]
  },
  {
   "cell_type": "code",
   "execution_count": 13,
   "metadata": {},
   "outputs": [],
   "source": [
    "df.dropna(inplace=True)"
   ]
  },
  {
   "cell_type": "code",
   "execution_count": 14,
   "metadata": {},
   "outputs": [
    {
     "data": {
      "text/plain": [
       "(72327, 5)"
      ]
     },
     "execution_count": 14,
     "metadata": {},
     "output_type": "execute_result"
    }
   ],
   "source": [
    "df.shape"
   ]
  },
  {
   "cell_type": "markdown",
   "metadata": {},
   "source": [
    "WE CAN CLEARLY SEE FROM THE BELOW GRAPH THAT MOST OF THE REVIEWS CAME FROM US, FRANCE AND ITALY AND THERE WERE A LOT OF COUNTRIES LIKE INDIA, SERBIA, PERU, ETC FROM DID NOT CONTRIBUTE MUCH IN GIVING THE REVIEWS. \n",
    "\n",
    "THEREFORE, WE WILL DROP ALL THOSE COUNTRIES WHICH HAD LESS THAN 50 REVIEWS."
   ]
  },
  {
   "cell_type": "code",
   "execution_count": 17,
   "metadata": {},
   "outputs": [
    {
     "data": {
      "text/plain": [
       "<matplotlib.axes._subplots.AxesSubplot at 0xe881f90>"
      ]
     },
     "execution_count": 17,
     "metadata": {},
     "output_type": "execute_result"
    },
    {
     "data": {
      "image/png": "[encoded data removed]",
      "text/plain": [
       "<Figure size 1080x576 with 1 Axes>"
      ]
     },
     "metadata": {
      "needs_background": "light"
     },
     "output_type": "display_data"
    }
   ],
   "source": [
    "df['country'].value_counts().plot(kind = 'bar',figsize = (15,8),x = 'Countries', y = 'Frequency', title = 'Distribution of Countries according to number of reviews')"
   ]
  },
  {
   "cell_type": "code",
   "execution_count": 15,
   "metadata": {},
   "outputs": [],
   "source": [
    "drop = ['Slovenia','Mexico','Moldova','Hungary','Turkey','Uruguay','Brazil','Lebanon','Morocco','Croatia','Ukraine','Georgia','Peru','Cyprus','Switzerland','Macedonia','Luxembourg','Serbia','Czech Republic','India']"
   ]
  },
  {
   "cell_type": "code",
   "execution_count": 16,
   "metadata": {},
   "outputs": [],
   "source": [
    "subset = df[~df['country'].isin(drop)]\n",
    "subset = subset.sample(18000)"
   ]
  },
  {
   "cell_type": "code",
   "execution_count": 11,
   "metadata": {},
   "outputs": [
    {
     "data": {
      "text/plain": [
       "(18000, 5)"
      ]
     },
     "execution_count": 11,
     "metadata": {},
     "output_type": "execute_result"
    }
   ],
   "source": [
    "subset.shape"
   ]
  },
  {
   "cell_type": "code",
   "execution_count": 21,
   "metadata": {},
   "outputs": [
    {
     "data": {
      "text/html": [
       "<div>\n",
       "<style scoped>\n",
       "    .dataframe tbody tr th:only-of-type {\n",
       "        vertical-align: middle;\n",
       "    }\n",
       "\n",
       "    .dataframe tbody tr th {\n",
       "        vertical-align: top;\n",
       "    }\n",
       "\n",
       "    .dataframe thead th {\n",
       "        text-align: right;\n",
       "    }\n",
       "</style>\n",
       "<table border=\"1\" class=\"dataframe\">\n",
       "  <thead>\n",
       "    <tr style=\"text-align: right;\">\n",
       "      <th></th>\n",
       "      <th>country</th>\n",
       "      <th>review_description</th>\n",
       "      <th>points</th>\n",
       "      <th>price</th>\n",
       "      <th>variety</th>\n",
       "    </tr>\n",
       "  </thead>\n",
       "  <tbody>\n",
       "    <tr>\n",
       "      <td>55434</td>\n",
       "      <td>France</td>\n",
       "      <td>A rich style of Chablis, with a toasty quality...</td>\n",
       "      <td>91</td>\n",
       "      <td>40.0</td>\n",
       "      <td>Chardonnay</td>\n",
       "    </tr>\n",
       "    <tr>\n",
       "      <td>27471</td>\n",
       "      <td>Austria</td>\n",
       "      <td>A complex blend that moves this wine into an i...</td>\n",
       "      <td>89</td>\n",
       "      <td>49.0</td>\n",
       "      <td>Red Blend</td>\n",
       "    </tr>\n",
       "    <tr>\n",
       "      <td>60644</td>\n",
       "      <td>France</td>\n",
       "      <td>This is the second wine from one of the group ...</td>\n",
       "      <td>90</td>\n",
       "      <td>35.0</td>\n",
       "      <td>Bordeaux-style Red Blend</td>\n",
       "    </tr>\n",
       "    <tr>\n",
       "      <td>45157</td>\n",
       "      <td>France</td>\n",
       "      <td>Typically fresh and fruity, this strawberry-je...</td>\n",
       "      <td>85</td>\n",
       "      <td>13.0</td>\n",
       "      <td>Gamay</td>\n",
       "    </tr>\n",
       "    <tr>\n",
       "      <td>60570</td>\n",
       "      <td>Australia</td>\n",
       "      <td>Shows some rather lactic overtones to go with ...</td>\n",
       "      <td>83</td>\n",
       "      <td>15.0</td>\n",
       "      <td>Chardonnay</td>\n",
       "    </tr>\n",
       "  </tbody>\n",
       "</table>\n",
       "</div>"
      ],
      "text/plain": [
       "         country                                 review_description  points  \\\n",
       "55434     France  A rich style of Chablis, with a toasty quality...      91   \n",
       "27471    Austria  A complex blend that moves this wine into an i...      89   \n",
       "60644     France  This is the second wine from one of the group ...      90   \n",
       "45157     France  Typically fresh and fruity, this strawberry-je...      85   \n",
       "60570  Australia  Shows some rather lactic overtones to go with ...      83   \n",
       "\n",
       "       price                   variety  \n",
       "55434   40.0                Chardonnay  \n",
       "27471   49.0                 Red Blend  \n",
       "60644   35.0  Bordeaux-style Red Blend  \n",
       "45157   13.0                     Gamay  \n",
       "60570   15.0                Chardonnay  "
      ]
     },
     "execution_count": 21,
     "metadata": {},
     "output_type": "execute_result"
    }
   ],
   "source": [
    "subset.head(5)"
   ]
  },
  {
   "cell_type": "code",
   "execution_count": 17,
   "metadata": {},
   "outputs": [
    {
     "data": {
      "text/plain": [
       "country               0\n",
       "review_description    0\n",
       "points                0\n",
       "price                 0\n",
       "variety               0\n",
       "dtype: int64"
      ]
     },
     "execution_count": 17,
     "metadata": {},
     "output_type": "execute_result"
    }
   ],
   "source": [
    "subset.isnull().sum()"
   ]
  },
  {
   "cell_type": "code",
   "execution_count": 18,
   "metadata": {},
   "outputs": [
    {
     "data": {
      "text/html": [
       "<div>\n",
       "<style scoped>\n",
       "    .dataframe tbody tr th:only-of-type {\n",
       "        vertical-align: middle;\n",
       "    }\n",
       "\n",
       "    .dataframe tbody tr th {\n",
       "        vertical-align: top;\n",
       "    }\n",
       "\n",
       "    .dataframe thead th {\n",
       "        text-align: right;\n",
       "    }\n",
       "</style>\n",
       "<table border=\"1\" class=\"dataframe\">\n",
       "  <thead>\n",
       "    <tr style=\"text-align: right;\">\n",
       "      <th></th>\n",
       "      <th>country</th>\n",
       "      <th>review_description</th>\n",
       "      <th>points</th>\n",
       "      <th>price</th>\n",
       "      <th>variety</th>\n",
       "    </tr>\n",
       "  </thead>\n",
       "  <tbody>\n",
       "    <tr>\n",
       "      <td>1925</td>\n",
       "      <td>US</td>\n",
       "      <td>Sweet pea blossoms, stone fruits and red raspb...</td>\n",
       "      <td>89</td>\n",
       "      <td>18.0</td>\n",
       "      <td>Rosé</td>\n",
       "    </tr>\n",
       "    <tr>\n",
       "      <td>5775</td>\n",
       "      <td>Italy</td>\n",
       "      <td>Forest floor, leather, pressed violet and bals...</td>\n",
       "      <td>90</td>\n",
       "      <td>70.0</td>\n",
       "      <td>Sangiovese</td>\n",
       "    </tr>\n",
       "    <tr>\n",
       "      <td>10942</td>\n",
       "      <td>US</td>\n",
       "      <td>This is a soft, tart, light red wine with exce...</td>\n",
       "      <td>82</td>\n",
       "      <td>29.0</td>\n",
       "      <td>Red Blend</td>\n",
       "    </tr>\n",
       "    <tr>\n",
       "      <td>7902</td>\n",
       "      <td>Italy</td>\n",
       "      <td>Pajoré unfolds clearly identifiable notes of s...</td>\n",
       "      <td>90</td>\n",
       "      <td>55.0</td>\n",
       "      <td>Nebbiolo</td>\n",
       "    </tr>\n",
       "    <tr>\n",
       "      <td>46764</td>\n",
       "      <td>US</td>\n",
       "      <td>L'Ecole's Columbia Valley Cabernet is again 10...</td>\n",
       "      <td>92</td>\n",
       "      <td>32.0</td>\n",
       "      <td>Cabernet Sauvignon</td>\n",
       "    </tr>\n",
       "    <tr>\n",
       "      <td>...</td>\n",
       "      <td>...</td>\n",
       "      <td>...</td>\n",
       "      <td>...</td>\n",
       "      <td>...</td>\n",
       "      <td>...</td>\n",
       "    </tr>\n",
       "    <tr>\n",
       "      <td>16776</td>\n",
       "      <td>US</td>\n",
       "      <td>Right now, the tannins are so fierce, they ove...</td>\n",
       "      <td>92</td>\n",
       "      <td>100.0</td>\n",
       "      <td>Cabernet Sauvignon</td>\n",
       "    </tr>\n",
       "    <tr>\n",
       "      <td>2512</td>\n",
       "      <td>US</td>\n",
       "      <td>A bit lean in fruit, in keeping with this prob...</td>\n",
       "      <td>85</td>\n",
       "      <td>17.0</td>\n",
       "      <td>Merlot</td>\n",
       "    </tr>\n",
       "    <tr>\n",
       "      <td>35802</td>\n",
       "      <td>Austria</td>\n",
       "      <td>A nose of pure lemon zest also has the faintes...</td>\n",
       "      <td>94</td>\n",
       "      <td>41.0</td>\n",
       "      <td>Riesling</td>\n",
       "    </tr>\n",
       "    <tr>\n",
       "      <td>75115</td>\n",
       "      <td>US</td>\n",
       "      <td>This 100% Sauvignon Blanc has just a touch of ...</td>\n",
       "      <td>88</td>\n",
       "      <td>24.0</td>\n",
       "      <td>Sauvignon Blanc</td>\n",
       "    </tr>\n",
       "    <tr>\n",
       "      <td>39787</td>\n",
       "      <td>US</td>\n",
       "      <td>The winery doesn't tell us what the blend is, ...</td>\n",
       "      <td>86</td>\n",
       "      <td>50.0</td>\n",
       "      <td>Red Blend</td>\n",
       "    </tr>\n",
       "  </tbody>\n",
       "</table>\n",
       "<p>18000 rows × 5 columns</p>\n",
       "</div>"
      ],
      "text/plain": [
       "       country                                 review_description  points  \\\n",
       "1925        US  Sweet pea blossoms, stone fruits and red raspb...      89   \n",
       "5775     Italy  Forest floor, leather, pressed violet and bals...      90   \n",
       "10942       US  This is a soft, tart, light red wine with exce...      82   \n",
       "7902     Italy  Pajoré unfolds clearly identifiable notes of s...      90   \n",
       "46764       US  L'Ecole's Columbia Valley Cabernet is again 10...      92   \n",
       "...        ...                                                ...     ...   \n",
       "16776       US  Right now, the tannins are so fierce, they ove...      92   \n",
       "2512        US  A bit lean in fruit, in keeping with this prob...      85   \n",
       "35802  Austria  A nose of pure lemon zest also has the faintes...      94   \n",
       "75115       US  This 100% Sauvignon Blanc has just a touch of ...      88   \n",
       "39787       US  The winery doesn't tell us what the blend is, ...      86   \n",
       "\n",
       "       price             variety  \n",
       "1925    18.0                Rosé  \n",
       "5775    70.0          Sangiovese  \n",
       "10942   29.0           Red Blend  \n",
       "7902    55.0            Nebbiolo  \n",
       "46764   32.0  Cabernet Sauvignon  \n",
       "...      ...                 ...  \n",
       "16776  100.0  Cabernet Sauvignon  \n",
       "2512    17.0              Merlot  \n",
       "35802   41.0            Riesling  \n",
       "75115   24.0     Sauvignon Blanc  \n",
       "39787   50.0           Red Blend  \n",
       "\n",
       "[18000 rows x 5 columns]"
      ]
     },
     "execution_count": 18,
     "metadata": {},
     "output_type": "execute_result"
    }
   ],
   "source": [
    "subset.dropna()"
   ]
  },
  {
   "cell_type": "code",
   "execution_count": 24,
   "metadata": {},
   "outputs": [
    {
     "data": {
      "text/plain": [
       "(18000, 5)"
      ]
     },
     "execution_count": 24,
     "metadata": {},
     "output_type": "execute_result"
    }
   ],
   "source": [
    "subset.shape"
   ]
  },
  {
   "cell_type": "code",
   "execution_count": 26,
   "metadata": {
    "scrolled": true
   },
   "outputs": [
    {
     "data": {
      "text/plain": [
       "<matplotlib.axes._subplots.AxesSubplot at 0x105775d0>"
      ]
     },
     "execution_count": 26,
     "metadata": {},
     "output_type": "execute_result"
    },
    {
     "data": {
      "image/png": "[encoded data removed]",
      "text/plain": [
       "<Figure size 1080x576 with 1 Axes>"
      ]
     },
     "metadata": {
      "needs_background": "light"
     },
     "output_type": "display_data"
    }
   ],
   "source": [
    "subset['points'].plot(kind = 'hist',bins = 30,figsize = (15,8))"
   ]
  },
  {
   "cell_type": "markdown",
   "metadata": {},
   "source": [
    "WE CAN OBSERVE FROM THE BELOW SCATTERED GRAPH THAT AS THE POINTS OR RATINGS FOR THE VARIETY OF WINE INCREASES, THE DATA BECOMES MORE RANDOM AND PRICES KEEPS ON RISING.\n",
    "\n",
    "WE CAN OBSERVE AT UPTO 90 POINTS, THE DATA POINTS WERE CONCENTRATED ON ONE VERTICAL LINE i.e. PRICES WERE INCREASING AT A CONSTANT RATE BUT AS THE POINTS INCREASES, THE PRICES OF THE WINES ARE BECOMING MORE EXTREME.\n",
    "\n",
    "THIS IMPLIES THAT THE PRICE AND POINTS HAS SOME KIND OF DIRECT RELATIONSHIP BETWEEN THEM."
   ]
  },
  {
   "cell_type": "code",
   "execution_count": 27,
   "metadata": {},
   "outputs": [
    {
     "data": {
      "text/plain": [
       "Text(0, 0.5, 'Price')"
      ]
     },
     "execution_count": 27,
     "metadata": {},
     "output_type": "execute_result"
    },
    {
     "data": {
      "image/png": "[encoded data removed]",
      "text/plain": [
       "<Figure size 1080x576 with 1 Axes>"
      ]
     },
     "metadata": {
      "needs_background": "light"
     },
     "output_type": "display_data"
    }
   ],
   "source": [
    "plt.figure(figsize = (15,8))\n",
    "plt.scatter(x = subset['points'],y = subset['price'])\n",
    "plt.xlabel('Points')\n",
    "plt.ylabel('Price')"
   ]
  },
  {
   "cell_type": "code",
   "execution_count": 28,
   "metadata": {},
   "outputs": [
    {
     "data": {
      "text/plain": [
       "<matplotlib.axes._subplots.AxesSubplot at 0x105fa570>"
      ]
     },
     "execution_count": 28,
     "metadata": {},
     "output_type": "execute_result"
    },
    {
     "data": {
      "image/png": "[encoded data removed]",
      "text/plain": [
       "<Figure size 1080x576 with 1 Axes>"
      ]
     },
     "metadata": {
      "needs_background": "light"
     },
     "output_type": "display_data"
    }
   ],
   "source": [
    "subset['price'].plot(kind = 'hist',bins = 10,figsize = (15,8))"
   ]
  },
  {
   "cell_type": "markdown",
   "metadata": {},
   "source": [
    "NOW, WE ARE CALCULATING THE LENGTH OF ALL THE REVIEWS AND CHECKING IF THERE IS ANY RELATION BETWEEN THE LENGTH OF THE REVIEWS AND THE TYPES OF WINE.."
   ]
  },
  {
   "cell_type": "code",
   "execution_count": 13,
   "metadata": {},
   "outputs": [],
   "source": [
    "subset['review length'] = subset['review_description'].apply(len)"
   ]
  },
  {
   "cell_type": "code",
   "execution_count": 30,
   "metadata": {},
   "outputs": [
    {
     "data": {
      "text/plain": [
       "24"
      ]
     },
     "execution_count": 30,
     "metadata": {},
     "output_type": "execute_result"
    }
   ],
   "source": [
    "subset['review length'].min()"
   ]
  },
  {
   "cell_type": "code",
   "execution_count": 31,
   "metadata": {},
   "outputs": [
    {
     "data": {
      "text/plain": [
       "<matplotlib.axes._subplots.AxesSubplot at 0x4197cb0>"
      ]
     },
     "execution_count": 31,
     "metadata": {},
     "output_type": "execute_result"
    },
    {
     "data": {
      "image/png": "[encoded data removed]",
      "text/plain": [
       "<Figure size 1080x576 with 1 Axes>"
      ]
     },
     "metadata": {
      "needs_background": "light"
     },
     "output_type": "display_data"
    }
   ],
   "source": [
    "subset['variety'].value_counts().plot(kind = 'bar',figsize = (15,8))"
   ]
  },
  {
   "cell_type": "markdown",
   "metadata": {},
   "source": [
    "FROM THE BELOW GRAPHS, WE CAN SEE THAT CHARDONNARY, RED BLEND, BORDEAUX-STYKE RED BLEND, PINOT NOIR AND CABERNET SAUVIGNON SEEMS TO BE THE MOST POPULAR WINE TYPE AS THEY REVIEWS OF HIGHEST LENGTHS AND ALSO BECAUSE THEY ARE SOLD AT A LOT OF PLACES AS SHOWN IN THE ABOVE GRAPH."
   ]
  },
  {
   "cell_type": "code",
   "execution_count": 32,
   "metadata": {
    "scrolled": true
   },
   "outputs": [
    {
     "data": {
      "text/plain": [
       "<seaborn.axisgrid.FacetGrid at 0x113a7290>"
      ]
     },
     "execution_count": 32,
     "metadata": {},
     "output_type": "execute_result"
    },
    {
     "data": {
      "image/png": "[encoded data removed]",
      "text/plain": [
       "<Figure size 6048x216 with 28 Axes>"
      ]
     },
     "metadata": {
      "needs_background": "light"
     },
     "output_type": "display_data"
    }
   ],
   "source": [
    "g = sns.FacetGrid(subset,col='variety')\n",
    "g.map(plt.hist,'review length')"
   ]
  },
  {
   "cell_type": "markdown",
   "metadata": {},
   "source": [
    "AVERAGE REVIEW LENGTH OF MOST OF THE WINE TYPES, SEEMS TO BE AROUND (200,300) WORDS."
   ]
  },
  {
   "cell_type": "code",
   "execution_count": 33,
   "metadata": {},
   "outputs": [
    {
     "data": {
      "image/png": "[encoded data removed]",
      "text/plain": [
       "<Figure size 1440x576 with 1 Axes>"
      ]
     },
     "metadata": {
      "needs_background": "light"
     },
     "output_type": "display_data"
    }
   ],
   "source": [
    "plt.figure(figsize = (20,8))\n",
    "sns.boxplot(x='variety',y='review length',data=subset,palette='rainbow')\n",
    "plt.tight_layout()"
   ]
  },
  {
   "cell_type": "code",
   "execution_count": 34,
   "metadata": {},
   "outputs": [
    {
     "data": {
      "text/plain": [
       "count                                                 18000\n",
       "unique                                                18000\n",
       "top       Towards the southern end of Chassagne, Morgeot...\n",
       "freq                                                      1\n",
       "Name: review_description, dtype: object"
      ]
     },
     "execution_count": 34,
     "metadata": {},
     "output_type": "execute_result"
    }
   ],
   "source": [
    "subset['review_description'].describe()"
   ]
  },
  {
   "cell_type": "code",
   "execution_count": 35,
   "metadata": {},
   "outputs": [
    {
     "data": {
      "text/html": [
       "<div>\n",
       "<style scoped>\n",
       "    .dataframe tbody tr th:only-of-type {\n",
       "        vertical-align: middle;\n",
       "    }\n",
       "\n",
       "    .dataframe tbody tr th {\n",
       "        vertical-align: top;\n",
       "    }\n",
       "\n",
       "    .dataframe thead th {\n",
       "        text-align: right;\n",
       "    }\n",
       "</style>\n",
       "<table border=\"1\" class=\"dataframe\">\n",
       "  <thead>\n",
       "    <tr style=\"text-align: right;\">\n",
       "      <th></th>\n",
       "      <th>count</th>\n",
       "      <th>unique</th>\n",
       "      <th>top</th>\n",
       "      <th>freq</th>\n",
       "    </tr>\n",
       "    <tr>\n",
       "      <th>variety</th>\n",
       "      <th></th>\n",
       "      <th></th>\n",
       "      <th></th>\n",
       "      <th></th>\n",
       "    </tr>\n",
       "  </thead>\n",
       "  <tbody>\n",
       "    <tr>\n",
       "      <td>Bordeaux-style Red Blend</td>\n",
       "      <td>1000</td>\n",
       "      <td>1000</td>\n",
       "      <td>Impressively dense, dark flavored wine, very r...</td>\n",
       "      <td>1</td>\n",
       "    </tr>\n",
       "    <tr>\n",
       "      <td>Bordeaux-style White Blend</td>\n",
       "      <td>116</td>\n",
       "      <td>116</td>\n",
       "      <td>This wine is still young, crisp and needs time...</td>\n",
       "      <td>1</td>\n",
       "    </tr>\n",
       "    <tr>\n",
       "      <td>Cabernet Franc</td>\n",
       "      <td>233</td>\n",
       "      <td>233</td>\n",
       "      <td>This beautiful vintage of Paleo (an oak-aged e...</td>\n",
       "      <td>1</td>\n",
       "    </tr>\n",
       "    <tr>\n",
       "      <td>Cabernet Sauvignon</td>\n",
       "      <td>1742</td>\n",
       "      <td>1742</td>\n",
       "      <td>Black currant and plum aromas come with a defi...</td>\n",
       "      <td>1</td>\n",
       "    </tr>\n",
       "    <tr>\n",
       "      <td>Champagne Blend</td>\n",
       "      <td>221</td>\n",
       "      <td>221</td>\n",
       "      <td>This ripe, balanced and mature wine is ready t...</td>\n",
       "      <td>1</td>\n",
       "    </tr>\n",
       "    <tr>\n",
       "      <td>Chardonnay</td>\n",
       "      <td>2138</td>\n",
       "      <td>2138</td>\n",
       "      <td>Towards the southern end of Chassagne, Morgeot...</td>\n",
       "      <td>1</td>\n",
       "    </tr>\n",
       "    <tr>\n",
       "      <td>Gamay</td>\n",
       "      <td>156</td>\n",
       "      <td>156</td>\n",
       "      <td>Ripe and fruity, this is full of red cherry fr...</td>\n",
       "      <td>1</td>\n",
       "    </tr>\n",
       "    <tr>\n",
       "      <td>Gewürztraminer</td>\n",
       "      <td>165</td>\n",
       "      <td>165</td>\n",
       "      <td>From old vines planted on the Mayacamas Mounta...</td>\n",
       "      <td>1</td>\n",
       "    </tr>\n",
       "    <tr>\n",
       "      <td>Grüner Veltliner</td>\n",
       "      <td>218</td>\n",
       "      <td>218</td>\n",
       "      <td>Playful and nearly effervescent on the nose wi...</td>\n",
       "      <td>1</td>\n",
       "    </tr>\n",
       "    <tr>\n",
       "      <td>Malbec</td>\n",
       "      <td>511</td>\n",
       "      <td>511</td>\n",
       "      <td>Pure Malbec, estate-grown, this has a slightly...</td>\n",
       "      <td>1</td>\n",
       "    </tr>\n",
       "    <tr>\n",
       "      <td>Merlot</td>\n",
       "      <td>568</td>\n",
       "      <td>568</td>\n",
       "      <td>This is the artist label Merlot; a firm, spicy...</td>\n",
       "      <td>1</td>\n",
       "    </tr>\n",
       "    <tr>\n",
       "      <td>Nebbiolo</td>\n",
       "      <td>441</td>\n",
       "      <td>441</td>\n",
       "      <td>This opens with aromas of prune, perfumed berr...</td>\n",
       "      <td>1</td>\n",
       "    </tr>\n",
       "    <tr>\n",
       "      <td>Pinot Grigio</td>\n",
       "      <td>189</td>\n",
       "      <td>189</td>\n",
       "      <td>A fine Pinot Grigio, showing lots of ripe citr...</td>\n",
       "      <td>1</td>\n",
       "    </tr>\n",
       "    <tr>\n",
       "      <td>Pinot Gris</td>\n",
       "      <td>240</td>\n",
       "      <td>240</td>\n",
       "      <td>This is a concentrated, voluptuous white, made...</td>\n",
       "      <td>1</td>\n",
       "    </tr>\n",
       "    <tr>\n",
       "      <td>Pinot Noir</td>\n",
       "      <td>2446</td>\n",
       "      <td>2446</td>\n",
       "      <td>Black-plum fruit is woven through smoke, sligh...</td>\n",
       "      <td>1</td>\n",
       "    </tr>\n",
       "    <tr>\n",
       "      <td>Portuguese Red</td>\n",
       "      <td>395</td>\n",
       "      <td>395</td>\n",
       "      <td>Big, chunky and ripe, with earthy aromas follo...</td>\n",
       "      <td>1</td>\n",
       "    </tr>\n",
       "    <tr>\n",
       "      <td>Portuguese White</td>\n",
       "      <td>178</td>\n",
       "      <td>178</td>\n",
       "      <td>Smooth caramel and raspberry flavored wine, wi...</td>\n",
       "      <td>1</td>\n",
       "    </tr>\n",
       "    <tr>\n",
       "      <td>Red Blend</td>\n",
       "      <td>1611</td>\n",
       "      <td>1611</td>\n",
       "      <td>A blend of Cabernet Sauvignon, Merlot and Peti...</td>\n",
       "      <td>1</td>\n",
       "    </tr>\n",
       "    <tr>\n",
       "      <td>Rhône-style Red Blend</td>\n",
       "      <td>253</td>\n",
       "      <td>253</td>\n",
       "      <td>Despite incredible levels of ripeness—evidence...</td>\n",
       "      <td>1</td>\n",
       "    </tr>\n",
       "    <tr>\n",
       "      <td>Riesling</td>\n",
       "      <td>920</td>\n",
       "      <td>920</td>\n",
       "      <td>An earthy dimension still clings to the zesty ...</td>\n",
       "      <td>1</td>\n",
       "    </tr>\n",
       "    <tr>\n",
       "      <td>Rosé</td>\n",
       "      <td>569</td>\n",
       "      <td>569</td>\n",
       "      <td>With more weight than its partner Vie Vité, th...</td>\n",
       "      <td>1</td>\n",
       "    </tr>\n",
       "    <tr>\n",
       "      <td>Sangiovese</td>\n",
       "      <td>431</td>\n",
       "      <td>431</td>\n",
       "      <td>In this one-dimensional wine, short-lived sens...</td>\n",
       "      <td>1</td>\n",
       "    </tr>\n",
       "    <tr>\n",
       "      <td>Sauvignon Blanc</td>\n",
       "      <td>889</td>\n",
       "      <td>889</td>\n",
       "      <td>This is an attractive, floral and fragrant win...</td>\n",
       "      <td>1</td>\n",
       "    </tr>\n",
       "    <tr>\n",
       "      <td>Sparkling Blend</td>\n",
       "      <td>377</td>\n",
       "      <td>377</td>\n",
       "      <td>This elegant sparkler has a lot going for it, ...</td>\n",
       "      <td>1</td>\n",
       "    </tr>\n",
       "    <tr>\n",
       "      <td>Syrah</td>\n",
       "      <td>756</td>\n",
       "      <td>756</td>\n",
       "      <td>This value-priced Syrah is meaty, leathery and...</td>\n",
       "      <td>1</td>\n",
       "    </tr>\n",
       "    <tr>\n",
       "      <td>Tempranillo</td>\n",
       "      <td>335</td>\n",
       "      <td>335</td>\n",
       "      <td>Oaky aromas suggest sandalwood along with plum...</td>\n",
       "      <td>1</td>\n",
       "    </tr>\n",
       "    <tr>\n",
       "      <td>White Blend</td>\n",
       "      <td>390</td>\n",
       "      <td>390</td>\n",
       "      <td>Citrus blossom and honeydew aromas contrast ag...</td>\n",
       "      <td>1</td>\n",
       "    </tr>\n",
       "    <tr>\n",
       "      <td>Zinfandel</td>\n",
       "      <td>512</td>\n",
       "      <td>512</td>\n",
       "      <td>Made in a richer, riper style, this Zin brims ...</td>\n",
       "      <td>1</td>\n",
       "    </tr>\n",
       "  </tbody>\n",
       "</table>\n",
       "</div>"
      ],
      "text/plain": [
       "                           count unique  \\\n",
       "variety                                   \n",
       "Bordeaux-style Red Blend    1000   1000   \n",
       "Bordeaux-style White Blend   116    116   \n",
       "Cabernet Franc               233    233   \n",
       "Cabernet Sauvignon          1742   1742   \n",
       "Champagne Blend              221    221   \n",
       "Chardonnay                  2138   2138   \n",
       "Gamay                        156    156   \n",
       "Gewürztraminer               165    165   \n",
       "Grüner Veltliner             218    218   \n",
       "Malbec                       511    511   \n",
       "Merlot                       568    568   \n",
       "Nebbiolo                     441    441   \n",
       "Pinot Grigio                 189    189   \n",
       "Pinot Gris                   240    240   \n",
       "Pinot Noir                  2446   2446   \n",
       "Portuguese Red               395    395   \n",
       "Portuguese White             178    178   \n",
       "Red Blend                   1611   1611   \n",
       "Rhône-style Red Blend        253    253   \n",
       "Riesling                     920    920   \n",
       "Rosé                         569    569   \n",
       "Sangiovese                   431    431   \n",
       "Sauvignon Blanc              889    889   \n",
       "Sparkling Blend              377    377   \n",
       "Syrah                        756    756   \n",
       "Tempranillo                  335    335   \n",
       "White Blend                  390    390   \n",
       "Zinfandel                    512    512   \n",
       "\n",
       "                                                                          top  \\\n",
       "variety                                                                         \n",
       "Bordeaux-style Red Blend    Impressively dense, dark flavored wine, very r...   \n",
       "Bordeaux-style White Blend  This wine is still young, crisp and needs time...   \n",
       "Cabernet Franc              This beautiful vintage of Paleo (an oak-aged e...   \n",
       "Cabernet Sauvignon          Black currant and plum aromas come with a defi...   \n",
       "Champagne Blend             This ripe, balanced and mature wine is ready t...   \n",
       "Chardonnay                  Towards the southern end of Chassagne, Morgeot...   \n",
       "Gamay                       Ripe and fruity, this is full of red cherry fr...   \n",
       "Gewürztraminer              From old vines planted on the Mayacamas Mounta...   \n",
       "Grüner Veltliner            Playful and nearly effervescent on the nose wi...   \n",
       "Malbec                      Pure Malbec, estate-grown, this has a slightly...   \n",
       "Merlot                      This is the artist label Merlot; a firm, spicy...   \n",
       "Nebbiolo                    This opens with aromas of prune, perfumed berr...   \n",
       "Pinot Grigio                A fine Pinot Grigio, showing lots of ripe citr...   \n",
       "Pinot Gris                  This is a concentrated, voluptuous white, made...   \n",
       "Pinot Noir                  Black-plum fruit is woven through smoke, sligh...   \n",
       "Portuguese Red              Big, chunky and ripe, with earthy aromas follo...   \n",
       "Portuguese White            Smooth caramel and raspberry flavored wine, wi...   \n",
       "Red Blend                   A blend of Cabernet Sauvignon, Merlot and Peti...   \n",
       "Rhône-style Red Blend       Despite incredible levels of ripeness—evidence...   \n",
       "Riesling                    An earthy dimension still clings to the zesty ...   \n",
       "Rosé                        With more weight than its partner Vie Vité, th...   \n",
       "Sangiovese                  In this one-dimensional wine, short-lived sens...   \n",
       "Sauvignon Blanc             This is an attractive, floral and fragrant win...   \n",
       "Sparkling Blend             This elegant sparkler has a lot going for it, ...   \n",
       "Syrah                       This value-priced Syrah is meaty, leathery and...   \n",
       "Tempranillo                 Oaky aromas suggest sandalwood along with plum...   \n",
       "White Blend                 Citrus blossom and honeydew aromas contrast ag...   \n",
       "Zinfandel                   Made in a richer, riper style, this Zin brims ...   \n",
       "\n",
       "                           freq  \n",
       "variety                          \n",
       "Bordeaux-style Red Blend      1  \n",
       "Bordeaux-style White Blend    1  \n",
       "Cabernet Franc                1  \n",
       "Cabernet Sauvignon            1  \n",
       "Champagne Blend               1  \n",
       "Chardonnay                    1  \n",
       "Gamay                         1  \n",
       "Gewürztraminer                1  \n",
       "Grüner Veltliner              1  \n",
       "Malbec                        1  \n",
       "Merlot                        1  \n",
       "Nebbiolo                      1  \n",
       "Pinot Grigio                  1  \n",
       "Pinot Gris                    1  \n",
       "Pinot Noir                    1  \n",
       "Portuguese Red                1  \n",
       "Portuguese White              1  \n",
       "Red Blend                     1  \n",
       "Rhône-style Red Blend         1  \n",
       "Riesling                      1  \n",
       "Rosé                          1  \n",
       "Sangiovese                    1  \n",
       "Sauvignon Blanc               1  \n",
       "Sparkling Blend               1  \n",
       "Syrah                         1  \n",
       "Tempranillo                   1  \n",
       "White Blend                   1  \n",
       "Zinfandel                     1  "
      ]
     },
     "execution_count": 35,
     "metadata": {},
     "output_type": "execute_result"
    }
   ],
   "source": [
    "subset['review_description'].groupby(subset['variety']).describe()"
   ]
  },
  {
   "cell_type": "code",
   "execution_count": 36,
   "metadata": {},
   "outputs": [
    {
     "data": {
      "text/plain": [
       "<matplotlib.axes._subplots.AxesSubplot at 0x1625df30>"
      ]
     },
     "execution_count": 36,
     "metadata": {},
     "output_type": "execute_result"
    },
    {
     "data": {
      "image/png": "[encoded data removed]",
      "text/plain": [
       "<Figure size 1080x576 with 1 Axes>"
      ]
     },
     "metadata": {
      "needs_background": "light"
     },
     "output_type": "display_data"
    }
   ],
   "source": [
    "subset['review length'].plot(bins=50, kind='hist',figsize = (15,8)) "
   ]
  },
  {
   "cell_type": "code",
   "execution_count": 37,
   "metadata": {},
   "outputs": [
    {
     "data": {
      "text/plain": [
       "count    18000.000000\n",
       "mean       244.972667\n",
       "std         68.584455\n",
       "min         24.000000\n",
       "25%        198.000000\n",
       "50%        240.000000\n",
       "75%        286.000000\n",
       "max        764.000000\n",
       "Name: review length, dtype: float64"
      ]
     },
     "execution_count": 37,
     "metadata": {},
     "output_type": "execute_result"
    }
   ],
   "source": [
    "subset['review length'].describe()"
   ]
  },
  {
   "cell_type": "code",
   "execution_count": 39,
   "metadata": {},
   "outputs": [
    {
     "data": {
      "text/plain": [
       "\"This very fine Cabernet wants a little time in the cellar. Right now, it's tight in tannins, with some acidic bitterness in the finish. The flavors are of black currants and smoky new oak. The Morisoli Vineyard has been home to very good, ageable bottlings from the likes of Sequoia Grove and Elyse, but in the last few years, Meander has expressed its terroir best. Try after 2012.This very fine Cabernet wants a little time in the cellar. Right now, it's tight in tannins, with some acidic bitterness in the finish. The flavors are of black currants and smoky new oak. The Morisoli Vineyard has been home to very good, ageable bottlings from the likes of Sequoia Grove and Elyse, but in the last few years, Meander has expressed its terroir best. Try after 2012.\""
      ]
     },
     "execution_count": 39,
     "metadata": {},
     "output_type": "execute_result"
    }
   ],
   "source": [
    "subset[subset['review length'] == 764]['review_description'].iloc[0]   #Showing the review with maximum length"
   ]
  },
  {
   "cell_type": "markdown",
   "metadata": {},
   "source": [
    "CREATING A FUNCTION FOR TEXT PREPROCESSING "
   ]
  },
  {
   "cell_type": "code",
   "execution_count": 19,
   "metadata": {},
   "outputs": [],
   "source": [
    "def text_process(mess):\n",
    "    \"\"\"\n",
    "    Takes in a string of text, then performs the following:\n",
    "    1. Remove all punctuation\n",
    "    2. Remove all stopwords\n",
    "    3. Remove all the numerical values\n",
    "    4. Lemmatizing all the words\n",
    "    5. Returns a list of the cleaned text\n",
    "    \"\"\"\n",
    "    # Check characters to see if they are in punctuation\n",
    "    nopunc = [char for char in mess if char not in string.punctuation]\n",
    "\n",
    "    # Join the characters again to form the string.\n",
    "    nopunc = ''.join(nopunc)\n",
    "    \n",
    "    # Now just remove any stopwords\n",
    "    nopunc =  [word for word in nopunc.split() if word.lower() not in stopwords.words('english')]\n",
    "    \n",
    "    # Removing all the characters that are not alphabets\n",
    "    nopunc =  [word for word in nopunc if word.isalpha()]\n",
    "    \n",
    "    # Lemmatizing all the words\n",
    "    lemma = WordNetLemmatizer()\n",
    "    return [lemma.lemmatize(w,\"v\") for w in nopunc]"
   ]
  },
  {
   "cell_type": "code",
   "execution_count": 41,
   "metadata": {},
   "outputs": [
    {
     "data": {
      "text/plain": [
       "Index(['country', 'review_description', 'points', 'price', 'variety',\n",
       "       'review length'],\n",
       "      dtype='object')"
      ]
     },
     "execution_count": 41,
     "metadata": {},
     "output_type": "execute_result"
    }
   ],
   "source": [
    "subset.columns"
   ]
  },
  {
   "cell_type": "markdown",
   "metadata": {},
   "source": [
    "FIRST WE ARE TRAINING AND TESTING ON THE TRAINING DATASET TO CHECK THE ACCURACY LEVEL OF DIFFERENT ALGORITHMS AND THEN COMPARE WHICH ONE GIVES THE MOST ACCURATE ANSWERS."
   ]
  },
  {
   "cell_type": "code",
   "execution_count": 20,
   "metadata": {},
   "outputs": [],
   "source": [
    "from sklearn.model_selection import train_test_split\n",
    "\n",
    "review_train, review_test, variety_train, variety_test = \\\n",
    "train_test_split(subset['review_description'], subset['variety'], test_size=0.2)"
   ]
  },
  {
   "cell_type": "markdown",
   "metadata": {},
   "source": [
    "## 1. NAIVE BAYES ALGORITHM"
   ]
  },
  {
   "cell_type": "code",
   "execution_count": 43,
   "metadata": {},
   "outputs": [],
   "source": [
    "from sklearn.pipeline import Pipeline\n",
    "\n",
    "pipeline1 = Pipeline([\n",
    "    ('bow', CountVectorizer(analyzer=text_process)),  # strings to token integer counts\n",
    "    ('tfidf', TfidfTransformer()),  # integer counts to weighted TF-IDF scores\n",
    "    ('classifier', MultinomialNB()),  # train on TF-IDF vectors w/ Naive Bayes classifier\n",
    "])"
   ]
  },
  {
   "cell_type": "code",
   "execution_count": 44,
   "metadata": {},
   "outputs": [
    {
     "data": {
      "text/plain": [
       "Pipeline(memory=None,\n",
       "     steps=[('bow', CountVectorizer(analyzer=<function text_process at 0x14A656F0>, binary=False,\n",
       "        decode_error='strict', dtype=<class 'numpy.int64'>,\n",
       "        encoding='utf-8', input='content', lowercase=True, max_df=1.0,\n",
       "        max_features=None, min_df=1, ngram_range=(1, 1), preprocessor=None,\n",
       "...f=False, use_idf=True)), ('classifier', MultinomialNB(alpha=1.0, class_prior=None, fit_prior=True))])"
      ]
     },
     "execution_count": 44,
     "metadata": {},
     "output_type": "execute_result"
    }
   ],
   "source": [
    "pipeline1.fit(review_train,variety_train)"
   ]
  },
  {
   "cell_type": "code",
   "execution_count": 45,
   "metadata": {},
   "outputs": [],
   "source": [
    "predictions1 = pipeline1.predict(review_test)"
   ]
  },
  {
   "cell_type": "markdown",
   "metadata": {},
   "source": [
    "PRECISION: Precision is the ratio of correctly predicted positive observations to the total predicted positive observations. The precision is intuitively the ability of the classifier not to label as positive a sample that is negative.\n",
    "\n",
    "RECALL: (Sensitivity)Recall is the ratio of correctly predicted positive observations to the all observations in actual class. The recall is intuitively the ability of the classifier to find all the positive samples.\n",
    "\n",
    "F1-SCORE:  F1 Score is the weighted average of Precision and Recall. Therefore, this score takes both false positives and false negatives into account. \n",
    "\n",
    "SUPPORT:The support is the number of occurrences of each class in y_true\n"
   ]
  },
  {
   "cell_type": "code",
   "execution_count": 46,
   "metadata": {
    "scrolled": true
   },
   "outputs": [
    {
     "name": "stdout",
     "output_type": "stream",
     "text": [
      "                            precision    recall  f1-score   support\n",
      "\n",
      "  Bordeaux-style Red Blend       0.78      0.15      0.25       218\n",
      "Bordeaux-style White Blend       0.00      0.00      0.00        33\n",
      "            Cabernet Franc       0.00      0.00      0.00        46\n",
      "        Cabernet Sauvignon       0.46      0.55      0.50       323\n",
      "           Champagne Blend       0.00      0.00      0.00        50\n",
      "                Chardonnay       0.38      0.96      0.54       426\n",
      "                     Gamay       0.00      0.00      0.00        26\n",
      "            Gewürztraminer       0.00      0.00      0.00        41\n",
      "          Grüner Veltliner       0.00      0.00      0.00        42\n",
      "                    Malbec       0.00      0.00      0.00        77\n",
      "                    Merlot       0.00      0.00      0.00       101\n",
      "                  Nebbiolo       1.00      0.01      0.02        88\n",
      "              Pinot Grigio       0.00      0.00      0.00        48\n",
      "                Pinot Gris       0.00      0.00      0.00        40\n",
      "                Pinot Noir       0.33      0.98      0.49       505\n",
      "            Portuguese Red       1.00      0.03      0.07        86\n",
      "          Portuguese White       0.00      0.00      0.00        40\n",
      "                 Red Blend       0.43      0.64      0.52       327\n",
      "     Rhône-style Red Blend       0.00      0.00      0.00        45\n",
      "                  Riesling       0.90      0.35      0.50       184\n",
      "                      Rosé       0.00      0.00      0.00       111\n",
      "                Sangiovese       0.00      0.00      0.00        72\n",
      "           Sauvignon Blanc       0.81      0.08      0.14       172\n",
      "           Sparkling Blend       0.00      0.00      0.00        72\n",
      "                     Syrah       0.00      0.00      0.00       167\n",
      "               Tempranillo       0.00      0.00      0.00        73\n",
      "               White Blend       0.00      0.00      0.00        74\n",
      "                 Zinfandel       0.00      0.00      0.00       113\n",
      "\n",
      "               avg / total       0.35      0.39      0.27      3600\n",
      "\n"
     ]
    }
   ],
   "source": [
    "print(classification_report(variety_test,predictions1))"
   ]
  },
  {
   "cell_type": "code",
   "execution_count": 68,
   "metadata": {},
   "outputs": [
    {
     "data": {
      "text/plain": [
       "0.39111111111111113"
      ]
     },
     "execution_count": 68,
     "metadata": {},
     "output_type": "execute_result"
    }
   ],
   "source": [
    "from sklearn import metrics\n",
    "\n",
    "metrics.accuracy_score(variety_test, predictions1)\n",
    "#metrics.confusion_matrix(variety_test, predictions1)"
   ]
  },
  {
   "cell_type": "markdown",
   "metadata": {},
   "source": [
    "## 2. LOGISTIC REGRESSION ALGORITHM"
   ]
  },
  {
   "cell_type": "code",
   "execution_count": 21,
   "metadata": {},
   "outputs": [],
   "source": [
    "from sklearn.pipeline import Pipeline\n",
    "from sklearn.linear_model import LogisticRegression\n",
    "\n",
    "pipeline2 = Pipeline([\n",
    "    ('bow', CountVectorizer(analyzer=text_process)),  # strings to token integer counts\n",
    "    ('tfidf', TfidfTransformer()),  # integer counts to weighted TF-IDF scores\n",
    "    ('classifier', LogisticRegression()),  # train on TF-IDF vectors w/ Logistic Regression classifier\n",
    "])"
   ]
  },
  {
   "cell_type": "code",
   "execution_count": 22,
   "metadata": {},
   "outputs": [
    {
     "data": {
      "text/plain": [
       "Pipeline(memory=None,\n",
       "     steps=[('bow', CountVectorizer(analyzer=<function text_process at 0x127EDD68>, binary=False,\n",
       "        decode_error='strict', dtype=<class 'numpy.int64'>,\n",
       "        encoding='utf-8', input='content', lowercase=True, max_df=1.0,\n",
       "        max_features=None, min_df=1, ngram_range=(1, 1), preprocessor=None,\n",
       "...ty='l2', random_state=None, solver='liblinear', tol=0.0001,\n",
       "          verbose=0, warm_start=False))])"
      ]
     },
     "execution_count": 22,
     "metadata": {},
     "output_type": "execute_result"
    }
   ],
   "source": [
    "pipeline2.fit(review_train,variety_train)"
   ]
  },
  {
   "cell_type": "code",
   "execution_count": 23,
   "metadata": {},
   "outputs": [],
   "source": [
    "predictions2 = pipeline2.predict(review_test)"
   ]
  },
  {
   "cell_type": "code",
   "execution_count": 24,
   "metadata": {},
   "outputs": [
    {
     "name": "stdout",
     "output_type": "stream",
     "text": [
      "                            precision    recall  f1-score   support\n",
      "\n",
      "  Bordeaux-style Red Blend       0.58      0.62      0.60       194\n",
      "Bordeaux-style White Blend       1.00      0.03      0.06        33\n",
      "            Cabernet Franc       0.50      0.02      0.04        51\n",
      "        Cabernet Sauvignon       0.47      0.77      0.58       327\n",
      "           Champagne Blend       0.80      0.29      0.43        41\n",
      "                Chardonnay       0.58      0.92      0.71       415\n",
      "                     Gamay       1.00      0.15      0.26        33\n",
      "            Gewürztraminer       1.00      0.09      0.17        33\n",
      "          Grüner Veltliner       0.93      0.62      0.75        40\n",
      "                    Malbec       0.78      0.32      0.46        96\n",
      "                    Merlot       0.73      0.22      0.34       107\n",
      "                  Nebbiolo       0.77      0.63      0.69        97\n",
      "              Pinot Grigio       1.00      0.44      0.61        41\n",
      "                Pinot Gris       0.62      0.13      0.22        38\n",
      "                Pinot Noir       0.54      0.86      0.67       476\n",
      "            Portuguese Red       0.61      0.45      0.52        80\n",
      "          Portuguese White       1.00      0.19      0.32        42\n",
      "                 Red Blend       0.58      0.63      0.60       344\n",
      "     Rhône-style Red Blend       0.90      0.30      0.45        63\n",
      "                  Riesling       0.73      0.81      0.77       189\n",
      "                      Rosé       0.65      0.58      0.61       111\n",
      "                Sangiovese       0.56      0.20      0.29        91\n",
      "           Sauvignon Blanc       0.69      0.58      0.63       180\n",
      "           Sparkling Blend       0.81      0.36      0.50        73\n",
      "                     Syrah       0.72      0.50      0.59       157\n",
      "               Tempranillo       0.63      0.18      0.28        66\n",
      "               White Blend       0.85      0.35      0.50        80\n",
      "                 Zinfandel       0.78      0.46      0.58       102\n",
      "\n",
      "               avg / total       0.65      0.60      0.57      3600\n",
      "\n"
     ]
    }
   ],
   "source": [
    "print(classification_report(variety_test,predictions2))"
   ]
  },
  {
   "cell_type": "code",
   "execution_count": 25,
   "metadata": {},
   "outputs": [
    {
     "data": {
      "text/plain": [
       "0.6002777777777778"
      ]
     },
     "execution_count": 25,
     "metadata": {},
     "output_type": "execute_result"
    }
   ],
   "source": [
    "from sklearn import metrics\n",
    "\n",
    "metrics.accuracy_score(variety_test, predictions2)\n",
    "#metrics.confusion_matrix(variety_test, predictions2)"
   ]
  },
  {
   "cell_type": "markdown",
   "metadata": {},
   "source": [
    "## 3. RANDOM FOREST ALGORITHM"
   ]
  },
  {
   "cell_type": "code",
   "execution_count": 53,
   "metadata": {},
   "outputs": [
    {
     "name": "stderr",
     "output_type": "stream",
     "text": [
      "C:\\Users\\Dell Insp\\Anaconda3\\lib\\site-packages\\sklearn\\ensemble\\weight_boosting.py:29: DeprecationWarning: numpy.core.umath_tests is an internal NumPy module and should not be imported. It will be removed in a future NumPy release.\n",
      "  from numpy.core.umath_tests import inner1d\n"
     ]
    }
   ],
   "source": [
    "from sklearn.ensemble import RandomForestClassifier\n",
    "\n",
    "pipeline3 = Pipeline([\n",
    "    ('bow', CountVectorizer(analyzer=text_process)),  # strings to token integer counts\n",
    "    ('tfidf', TfidfTransformer()),  # integer counts to weighted TF-IDF scores\n",
    "    ('classifier',RandomForestClassifier()),  # train on TF-IDF vectors w/ Random Forest classifier\n",
    "])"
   ]
  },
  {
   "cell_type": "code",
   "execution_count": 54,
   "metadata": {},
   "outputs": [
    {
     "data": {
      "text/plain": [
       "Pipeline(memory=None,\n",
       "     steps=[('bow', CountVectorizer(analyzer=<function text_process at 0x14A656F0>, binary=False,\n",
       "        decode_error='strict', dtype=<class 'numpy.int64'>,\n",
       "        encoding='utf-8', input='content', lowercase=True, max_df=1.0,\n",
       "        max_features=None, min_df=1, ngram_range=(1, 1), preprocessor=None,\n",
       "...n_jobs=1,\n",
       "            oob_score=False, random_state=None, verbose=0,\n",
       "            warm_start=False))])"
      ]
     },
     "execution_count": 54,
     "metadata": {},
     "output_type": "execute_result"
    }
   ],
   "source": [
    "pipeline3.fit(review_train,variety_train)"
   ]
  },
  {
   "cell_type": "code",
   "execution_count": 55,
   "metadata": {},
   "outputs": [],
   "source": [
    "predictions3 = pipeline3.predict(review_test)"
   ]
  },
  {
   "cell_type": "code",
   "execution_count": 56,
   "metadata": {
    "scrolled": true
   },
   "outputs": [
    {
     "name": "stdout",
     "output_type": "stream",
     "text": [
      "                            precision    recall  f1-score   support\n",
      "\n",
      "  Bordeaux-style Red Blend       0.39      0.56      0.46       218\n",
      "Bordeaux-style White Blend       0.40      0.06      0.11        33\n",
      "            Cabernet Franc       0.07      0.02      0.03        46\n",
      "        Cabernet Sauvignon       0.39      0.68      0.49       323\n",
      "           Champagne Blend       0.58      0.22      0.32        50\n",
      "                Chardonnay       0.45      0.87      0.60       426\n",
      "                     Gamay       0.27      0.12      0.16        26\n",
      "            Gewürztraminer       0.47      0.20      0.28        41\n",
      "          Grüner Veltliner       0.44      0.19      0.27        42\n",
      "                    Malbec       0.33      0.23      0.27        77\n",
      "                    Merlot       0.35      0.29      0.32       101\n",
      "                  Nebbiolo       0.53      0.40      0.45        88\n",
      "              Pinot Grigio       0.68      0.27      0.39        48\n",
      "                Pinot Gris       0.55      0.28      0.37        40\n",
      "                Pinot Noir       0.53      0.67      0.59       505\n",
      "            Portuguese Red       0.54      0.30      0.39        86\n",
      "          Portuguese White       0.50      0.17      0.26        40\n",
      "                 Red Blend       0.47      0.41      0.44       327\n",
      "     Rhône-style Red Blend       0.70      0.31      0.43        45\n",
      "                  Riesling       0.60      0.63      0.62       184\n",
      "                      Rosé       0.40      0.22      0.28       111\n",
      "                Sangiovese       0.38      0.17      0.23        72\n",
      "           Sauvignon Blanc       0.56      0.35      0.43       172\n",
      "           Sparkling Blend       0.61      0.26      0.37        72\n",
      "                     Syrah       0.52      0.16      0.25       167\n",
      "               Tempranillo       0.22      0.05      0.09        73\n",
      "               White Blend       0.62      0.20      0.31        74\n",
      "                 Zinfandel       0.68      0.22      0.33       113\n",
      "\n",
      "               avg / total       0.48      0.47      0.43      3600\n",
      "\n"
     ]
    }
   ],
   "source": [
    "print(classification_report(variety_test,predictions3))"
   ]
  },
  {
   "cell_type": "code",
   "execution_count": 70,
   "metadata": {},
   "outputs": [
    {
     "data": {
      "text/plain": [
       "0.4658333333333333"
      ]
     },
     "execution_count": 70,
     "metadata": {},
     "output_type": "execute_result"
    }
   ],
   "source": [
    "from sklearn import metrics\n",
    "\n",
    "metrics.accuracy_score(variety_test, predictions3)\n",
    "#metrics.confusion_matrix(variety_test, predictions3)"
   ]
  },
  {
   "cell_type": "markdown",
   "metadata": {},
   "source": [
    "## 4. Gradient Boosting "
   ]
  },
  {
   "cell_type": "code",
   "execution_count": 39,
   "metadata": {},
   "outputs": [
    {
     "name": "stderr",
     "output_type": "stream",
     "text": [
      "C:\\Users\\Dell Insp\\Anaconda3\\lib\\site-packages\\sklearn\\ensemble\\weight_boosting.py:29: DeprecationWarning: numpy.core.umath_tests is an internal NumPy module and should not be imported. It will be removed in a future NumPy release.\n",
      "  from numpy.core.umath_tests import inner1d\n"
     ]
    }
   ],
   "source": [
    "from  sklearn.ensemble import GradientBoostingClassifier\n",
    "\n",
    "pipeline4 = Pipeline([\n",
    "    ('bow', CountVectorizer(analyzer=text_process)),  # strings to token integer counts\n",
    "    ('tfidf', TfidfTransformer()),  # integer counts to weighted TF-IDF scores\n",
    "    ('classifier',GradientBoostingClassifier()),  # train on TF-IDF vectors w/ Random Forest classifier\n",
    "])"
   ]
  },
  {
   "cell_type": "code",
   "execution_count": 40,
   "metadata": {},
   "outputs": [
    {
     "data": {
      "text/plain": [
       "Pipeline(memory=None,\n",
       "     steps=[('bow', CountVectorizer(analyzer=<function text_process at 0x127EDD68>, binary=False,\n",
       "        decode_error='strict', dtype=<class 'numpy.int64'>,\n",
       "        encoding='utf-8', input='content', lowercase=True, max_df=1.0,\n",
       "        max_features=None, min_df=1, ngram_range=(1, 1), preprocessor=None,\n",
       "...      presort='auto', random_state=None, subsample=1.0, verbose=0,\n",
       "              warm_start=False))])"
      ]
     },
     "execution_count": 40,
     "metadata": {},
     "output_type": "execute_result"
    }
   ],
   "source": [
    "pipeline4.fit(review_train,variety_train)"
   ]
  },
  {
   "cell_type": "code",
   "execution_count": 41,
   "metadata": {},
   "outputs": [],
   "source": [
    "predictions4 = pipeline4.predict(review_test)"
   ]
  },
  {
   "cell_type": "code",
   "execution_count": 42,
   "metadata": {
    "scrolled": true
   },
   "outputs": [
    {
     "name": "stdout",
     "output_type": "stream",
     "text": [
      "                            precision    recall  f1-score   support\n",
      "\n",
      "  Bordeaux-style Red Blend       0.50      0.52      0.51       194\n",
      "Bordeaux-style White Blend       0.31      0.15      0.20        33\n",
      "            Cabernet Franc       0.37      0.35      0.36        51\n",
      "        Cabernet Sauvignon       0.52      0.66      0.58       327\n",
      "           Champagne Blend       0.42      0.37      0.39        41\n",
      "                Chardonnay       0.59      0.84      0.69       415\n",
      "                     Gamay       0.37      0.33      0.35        33\n",
      "            Gewürztraminer       0.49      0.52      0.50        33\n",
      "          Grüner Veltliner       0.62      0.45      0.52        40\n",
      "                    Malbec       0.55      0.43      0.48        96\n",
      "                    Merlot       0.53      0.35      0.42       107\n",
      "                  Nebbiolo       0.70      0.54      0.61        97\n",
      "              Pinot Grigio       0.41      0.51      0.46        41\n",
      "                Pinot Gris       0.41      0.34      0.37        38\n",
      "                Pinot Noir       0.59      0.80      0.68       476\n",
      "            Portuguese Red       0.58      0.33      0.42        80\n",
      "          Portuguese White       0.55      0.38      0.45        42\n",
      "                 Red Blend       0.55      0.52      0.54       344\n",
      "     Rhône-style Red Blend       0.56      0.44      0.50        63\n",
      "                  Riesling       0.79      0.71      0.75       189\n",
      "                      Rosé       0.51      0.48      0.50       111\n",
      "                Sangiovese       0.55      0.45      0.49        91\n",
      "           Sauvignon Blanc       0.68      0.52      0.59       180\n",
      "           Sparkling Blend       0.73      0.49      0.59        73\n",
      "                     Syrah       0.68      0.50      0.58       157\n",
      "               Tempranillo       0.50      0.32      0.39        66\n",
      "               White Blend       0.68      0.42      0.52        80\n",
      "                 Zinfandel       0.72      0.49      0.58       102\n",
      "\n",
      "               avg / total       0.58      0.58      0.57      3600\n",
      "\n"
     ]
    }
   ],
   "source": [
    "print(classification_report(variety_test,predictions4))"
   ]
  },
  {
   "cell_type": "code",
   "execution_count": 43,
   "metadata": {},
   "outputs": [
    {
     "data": {
      "text/plain": [
       "0.5777777777777777"
      ]
     },
     "execution_count": 43,
     "metadata": {},
     "output_type": "execute_result"
    }
   ],
   "source": [
    "metrics.accuracy_score(variety_test, predictions4)\n",
    "#metrics.confusion_matrix(variety_test, predictions3)"
   ]
  },
  {
   "cell_type": "markdown",
   "metadata": {},
   "source": [
    "HERE I HAVE USED 4 ALGORITHMS WITH ALL DEFAULT PARAMETERS. PARAMETERS CAN BE ADJUSTED AS WELL ACCORDING TO THE REQUIREMENT AND DOCUMENTATION.\n",
    "\n",
    "NOW, I WILL COMPARE THE ACCURACY RATE OF ALL THE FOUR ALGORITHMS AND CHOOSE THE ONE WITH HIGHEST ACCURACY AND APPLY THAT ON THE TEST DATASET.\n",
    "\n",
    "Logistic regression gave us the highest accuracy of around 60%. So, we will use that to predict the values in the test dataset. The accuracy rate is not upto the mark but if we adjust some of the parameters of an algorithm then the accuracy rate can increase."
   ]
  },
  {
   "cell_type": "markdown",
   "metadata": {},
   "source": [
    "#### PREDICTING THE WINE TYPE ON THE TEST DATASET"
   ]
  },
  {
   "cell_type": "code",
   "execution_count": 26,
   "metadata": {},
   "outputs": [],
   "source": [
    "test = pd.read_csv('test.csv')"
   ]
  },
  {
   "cell_type": "code",
   "execution_count": 27,
   "metadata": {},
   "outputs": [
    {
     "data": {
      "text/plain": [
       "(630, 11)"
      ]
     },
     "execution_count": 27,
     "metadata": {},
     "output_type": "execute_result"
    }
   ],
   "source": [
    "test[test.duplicated('review_description',keep=False)].sort_values('review_description').shape"
   ]
  },
  {
   "cell_type": "code",
   "execution_count": 28,
   "metadata": {},
   "outputs": [],
   "source": [
    "test.drop_duplicates(inplace = True)"
   ]
  },
  {
   "cell_type": "code",
   "execution_count": 29,
   "metadata": {},
   "outputs": [
    {
     "data": {
      "text/plain": [
       "Index(['user_name', 'country', 'review_title', 'review_description',\n",
       "       'designation', 'points', 'price', 'province', 'region_1', 'region_2',\n",
       "       'winery'],\n",
       "      dtype='object')"
      ]
     },
     "execution_count": 29,
     "metadata": {},
     "output_type": "execute_result"
    }
   ],
   "source": [
    "test.columns"
   ]
  },
  {
   "cell_type": "markdown",
   "metadata": {},
   "source": [
    "DROPPING ALL THE COLUMNS THAT ARE NOT VERY USEFUL IN OUR ANALYSIS. WE ARE ONLY CONSIDERING PRICE, POINTS AND REVIEW DESCRIPTION COLUMNS FOR OUR ANALYSIS."
   ]
  },
  {
   "cell_type": "code",
   "execution_count": 30,
   "metadata": {},
   "outputs": [],
   "source": [
    "test.drop(['user_name','review_title','designation','province','region_1','region_2','winery'],axis=1,inplace=True)\n"
   ]
  },
  {
   "cell_type": "markdown",
   "metadata": {},
   "source": [
    "DROPPING ALL THE NULL VALUES"
   ]
  },
  {
   "cell_type": "code",
   "execution_count": 31,
   "metadata": {},
   "outputs": [
    {
     "data": {
      "text/plain": [
       "country                  3\n",
       "review_description       0\n",
       "points                   0\n",
       "price                 1374\n",
       "dtype: int64"
      ]
     },
     "execution_count": 31,
     "metadata": {},
     "output_type": "execute_result"
    }
   ],
   "source": [
    "test.isnull().sum()"
   ]
  },
  {
   "cell_type": "code",
   "execution_count": 32,
   "metadata": {},
   "outputs": [
    {
     "data": {
      "text/plain": [
       "(20351, 4)"
      ]
     },
     "execution_count": 32,
     "metadata": {},
     "output_type": "execute_result"
    }
   ],
   "source": [
    "test.shape"
   ]
  },
  {
   "cell_type": "code",
   "execution_count": 33,
   "metadata": {},
   "outputs": [],
   "source": [
    "test.dropna(inplace=True)"
   ]
  },
  {
   "cell_type": "code",
   "execution_count": 34,
   "metadata": {},
   "outputs": [],
   "source": [
    "drop = ['Slovenia','Mexico','Moldova','Hungary','Turkey','Uruguay','Brazil','Lebanon','Morocco','Croatia','Ukraine','Georgia','Peru','Cyprus','Switzerland','Macedonia','Luxembourg','Serbia','Czech Republic','India']"
   ]
  },
  {
   "cell_type": "code",
   "execution_count": 35,
   "metadata": {},
   "outputs": [],
   "source": [
    "subset_test = [~test['country'].isin(drop)]\n",
    "subset_test = test.sample(5100)"
   ]
  },
  {
   "cell_type": "code",
   "execution_count": 36,
   "metadata": {},
   "outputs": [],
   "source": [
    "predictions = pipeline2.predict(subset_test['review_description'])"
   ]
  },
  {
   "cell_type": "code",
   "execution_count": 37,
   "metadata": {},
   "outputs": [],
   "source": [
    "pred = pd.DataFrame(predictions)"
   ]
  },
  {
   "cell_type": "code",
   "execution_count": 38,
   "metadata": {},
   "outputs": [
    {
     "data": {
      "text/html": [
       "<div>\n",
       "<style scoped>\n",
       "    .dataframe tbody tr th:only-of-type {\n",
       "        vertical-align: middle;\n",
       "    }\n",
       "\n",
       "    .dataframe tbody tr th {\n",
       "        vertical-align: top;\n",
       "    }\n",
       "\n",
       "    .dataframe thead th {\n",
       "        text-align: right;\n",
       "    }\n",
       "</style>\n",
       "<table border=\"1\" class=\"dataframe\">\n",
       "  <thead>\n",
       "    <tr style=\"text-align: right;\">\n",
       "      <th></th>\n",
       "      <th>0</th>\n",
       "    </tr>\n",
       "  </thead>\n",
       "  <tbody>\n",
       "    <tr>\n",
       "      <td>0</td>\n",
       "      <td>Cabernet Sauvignon</td>\n",
       "    </tr>\n",
       "    <tr>\n",
       "      <td>1</td>\n",
       "      <td>Pinot Noir</td>\n",
       "    </tr>\n",
       "    <tr>\n",
       "      <td>2</td>\n",
       "      <td>Pinot Noir</td>\n",
       "    </tr>\n",
       "    <tr>\n",
       "      <td>3</td>\n",
       "      <td>Chardonnay</td>\n",
       "    </tr>\n",
       "    <tr>\n",
       "      <td>4</td>\n",
       "      <td>Riesling</td>\n",
       "    </tr>\n",
       "    <tr>\n",
       "      <td>...</td>\n",
       "      <td>...</td>\n",
       "    </tr>\n",
       "    <tr>\n",
       "      <td>5095</td>\n",
       "      <td>Red Blend</td>\n",
       "    </tr>\n",
       "    <tr>\n",
       "      <td>5096</td>\n",
       "      <td>Rosé</td>\n",
       "    </tr>\n",
       "    <tr>\n",
       "      <td>5097</td>\n",
       "      <td>Chardonnay</td>\n",
       "    </tr>\n",
       "    <tr>\n",
       "      <td>5098</td>\n",
       "      <td>Cabernet Sauvignon</td>\n",
       "    </tr>\n",
       "    <tr>\n",
       "      <td>5099</td>\n",
       "      <td>Pinot Noir</td>\n",
       "    </tr>\n",
       "  </tbody>\n",
       "</table>\n",
       "<p>5100 rows × 1 columns</p>\n",
       "</div>"
      ],
      "text/plain": [
       "                       0\n",
       "0     Cabernet Sauvignon\n",
       "1             Pinot Noir\n",
       "2             Pinot Noir\n",
       "3             Chardonnay\n",
       "4               Riesling\n",
       "...                  ...\n",
       "5095           Red Blend\n",
       "5096                Rosé\n",
       "5097          Chardonnay\n",
       "5098  Cabernet Sauvignon\n",
       "5099          Pinot Noir\n",
       "\n",
       "[5100 rows x 1 columns]"
      ]
     },
     "execution_count": 38,
     "metadata": {},
     "output_type": "execute_result"
    }
   ],
   "source": [
    "pred"
   ]
  },
  {
   "cell_type": "code",
   "execution_count": null,
   "metadata": {},
   "outputs": [],
   "source": []
  }
 ],
 "metadata": {
  "kernelspec": {
   "display_name": "Python 3",
   "language": "python",
   "name": "python3"
  },
  "language_info": {
   "codemirror_mode": {
    "name": "ipython",
    "version": 3
   },
   "file_extension": ".py",
   "mimetype": "text/x-python",
   "name": "python",
   "nbconvert_exporter": "python",
   "pygments_lexer": "ipython3",
   "version": "3.7.4"
  }
 },
 "nbformat": 4,
 "nbformat_minor": 2
}
